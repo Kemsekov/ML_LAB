{
 "cells": [
  {
   "cell_type": "code",
   "execution_count": 69,
   "metadata": {},
   "outputs": [],
   "source": [
    "import pandas as pd\n",
    "import numpy as np\n",
    "import matplotlib.pyplot as plt\n",
    "import seaborn as sns\n",
    "sns.set_theme()"
   ]
  },
  {
   "cell_type": "code",
   "execution_count": null,
   "metadata": {},
   "outputs": [],
   "source": [
    "import kagglehub\n",
    "\n",
    "# Download latest version\n",
    "path = kagglehub.dataset_download(\"dipam7/student-grade-prediction\")\n",
    "\n",
    "print(\"Path to dataset files:\", path)\n",
    "!ls {path}"
   ]
  },
  {
   "cell_type": "code",
   "execution_count": null,
   "metadata": {},
   "outputs": [],
   "source": [
    "import pandas as pd\n",
    "data = pd.read_csv(path+\"/student-mat.csv\")\n",
    "data"
   ]
  },
  {
   "cell_type": "markdown",
   "metadata": {},
   "source": [
    "Attribute Information:\n",
    "\n",
    "school - student's school (binary: 'GP' - Gabriel Pereira or 'MS' - Mousinho da Silveira)\n",
    "\n",
    "sex - student's sex (binary: 'F' - female or 'M' - male)\n",
    "\n",
    "age - student's age (numeric: from 15 to 22)\n",
    "\n",
    "address - student's home address type (binary: 'U' - urban or 'R' - rural)\n",
    "\n",
    "famsize - family size (binary: 'LE3' - less or equal to 3 or 'GT3' - greater than 3)\n",
    "\n",
    "Pstatus - parent's cohabitation status (binary: 'T' - living together or 'A' - apart)\n",
    "\n",
    "Medu - mother's education (numeric: 0 - none, 1 - primary education (4th grade), 2 â€“ 5th to 9th grade, 3 â€“ secondary education or 4 â€“ higher education)\n",
    "\n",
    "Fedu - father's education (numeric: 0 - none, 1 - primary education (4th grade), 2 â€“ 5th to 9th grade, 3 â€“ secondary education or 4 â€“ higher education)\n",
    "\n",
    "Mjob - mother's job (nominal: 'teacher', 'health' care related, civil 'services' (e.g. administrative or police), 'at_home' or 'other')\n",
    "\n",
    "Fjob - father's job (nominal: 'teacher', 'health' care related, civil 'services' (e.g. administrative or police), 'at_home' or 'other')\n",
    "\n",
    "reason - reason to choose this school (nominal: close to 'home', school 'reputation', 'course' preference or 'other')\n",
    "\n",
    "guardian - student's guardian (nominal: 'mother', 'father' or 'other')\n",
    "\n",
    "traveltime - home to school travel time (numeric: 1 - <15 min., 2 - 15 to 30 min., 3 - 30 min. to 1 hour, or 4 - >1 hour)\n",
    "\n",
    "studytime - weekly study time (numeric: 1 - <2 hours, 2 - 2 to 5 hours, 3 - 5 to 10 hours, or 4 - >10 hours)\n",
    "\n",
    "failures - number of past class failures (numeric: n if 1<=n<3, else 4)\n",
    "\n",
    "schoolsup - extra educational support (binary: yes or no)\n",
    "\n",
    "famsup - family educational support (binary: yes or no)\n",
    "\n",
    "paid - extra paid classes within the course subject (Math or Portuguese) (binary: yes or no)\n",
    "\n",
    "activities - extra-curricular activities (binary: yes or no)\n",
    "\n",
    "nursery - attended nursery school (binary: yes or no)\n",
    "\n",
    "higher - wants to take higher education (binary: yes or no)\n",
    "\n",
    "internet - Internet access at home (binary: yes or no)\n",
    "\n",
    "romantic - with a romantic relationship (binary: yes or no)\n",
    "\n",
    "famrel - quality of family relationships (numeric: from 1 - very bad to 5 - excellent)\n",
    "\n",
    "freetime - free time after school (numeric: from 1 - very low to 5 - very high)\n",
    "\n",
    "goout - going out with friends (numeric: from 1 - very low to 5 - very high)\n",
    "\n",
    "Dalc - workday alcohol consumption (numeric: from 1 - very low to 5 - very high)\n",
    "\n",
    "Walc - weekend alcohol consumption (numeric: from 1 - very low to 5 - very high)\n",
    "\n",
    "health - current health status (numeric: from 1 - very bad to 5 - very good)\n",
    "\n",
    "absences - number of school absences (numeric: from 0 to 93)\n",
    "\n",
    "\n"
   ]
  },
  {
   "cell_type": "code",
   "execution_count": null,
   "metadata": {},
   "outputs": [],
   "source": [
    "# получим информацию о признаках\n",
    "data.info()"
   ]
  },
  {
   "cell_type": "code",
   "execution_count": null,
   "metadata": {},
   "outputs": [],
   "source": [
    "# получим описательную статистику по численным признакам данных\n",
    "# это датасет об учашхся, целевой признак который нам важен - это G1, G2, G3\n",
    "# это средние оценки за первый, второй и итоговый периоды обучения\n",
    "data.describe()"
   ]
  },
  {
   "cell_type": "code",
   "execution_count": null,
   "metadata": {},
   "outputs": [],
   "source": [
    "print(\"Уникальные значения нечисловых прихзнаков\")\n",
    "column_uniques = {}\n",
    "for c in data.columns:\n",
    "    col = data[c]\n",
    "    if col.dtype=='object':\n",
    "        column_uniques[c] = col.unique()\n",
    "        print(f\"{c}:\\n{column_uniques[c]}\")"
   ]
  },
  {
   "cell_type": "code",
   "execution_count": null,
   "metadata": {},
   "outputs": [],
   "source": [
    "# отрисуем оценки за пероды обучения\n",
    "plt.title(\"Первый период\")\n",
    "plt.hist(data['G1'])\n",
    "plt.show()\n",
    "\n",
    "plt.title(\"Второй период\")\n",
    "plt.hist(data['G2'])\n",
    "plt.show()\n",
    "\n",
    "plt.title(\"Итоговая оценка\")\n",
    "plt.hist(data['G3'])\n",
    "plt.show()"
   ]
  },
  {
   "cell_type": "code",
   "execution_count": 76,
   "metadata": {},
   "outputs": [],
   "source": [
    "# чтоб упростить визуализацию, сделаем G_\n",
    "data[\"G3_group\"] = pd.cut(x=data['G3'], bins=[0,5,10,15,20])"
   ]
  },
  {
   "cell_type": "code",
   "execution_count": null,
   "metadata": {},
   "outputs": [],
   "source": [
    "# Сильного влияния не оказывает\n",
    "# plot_normalized_countplot(data=data, x=\"romantic\", hue='G3_group',)\n",
    "sns.histplot(data, x=\"romantic\", hue=\"G3_group\", multiple=\"stack\")\n",
    "plt.title(\"Зависиммость оценок от наличия отношений\")\n",
    "plt.show()\n",
    "\n",
    "# А тем, у кого нет дома интернета, невозможно вообще нормально учиться! Группа оценок смещена влево!\n",
    "sns.histplot(data, x=\"internet\", hue=\"G3_group\", multiple=\"stack\")\n",
    "plt.title(\"Зависиммость оценок от наличия интернета дома\")\n",
    "plt.show()\n",
    "\n",
    "# Чем больше свободного времени после учебы, тем, как правило лучше учится студент\n",
    "sns.histplot(data, x=\"freetime\", hue=\"G3_group\", multiple=\"stack\")\n",
    "plt.title(\"Зависиммость оценок от наличия свободного времени после учебы\")\n",
    "plt.show()\n",
    "\n",
    "# Чем больше времени потрачено на учебу, тем, как правило лучше учится студент\n",
    "sns.histplot(data, x=\"studytime\", hue=\"G3_group\", multiple=\"stack\")\n",
    "plt.title(\"Зависиммость оценок от наличия свободного времени потраченного на учебу\")\n",
    "plt.show()\n",
    "\n"
   ]
  },
  {
   "cell_type": "code",
   "execution_count": null,
   "metadata": {},
   "outputs": [],
   "source": [
    "sns.boxplot(data=data, x='internet', y='G3')\n",
    "plt.show()\n",
    "\n",
    "#мальчики учаться чуть лучше\n",
    "sns.boxplot(data=data, x='sex', y='G3')\n",
    "plt.show()\n"
   ]
  },
  {
   "cell_type": "code",
   "execution_count": null,
   "metadata": {},
   "outputs": [],
   "source": [
    "# when mother is working in health student is doing better\n",
    "sns.violinplot(data=data, x='Mjob', y='G3')\n",
    "plt.title(\"Distribution of G3 Scores by mother job\")\n",
    "plt.show()\n",
    "\n",
    "# when father is teacher student is doing better\n",
    "sns.violinplot(data=data, x='Fjob', y='G3')\n",
    "plt.title(\"Distribution of G3 Scores by father job\")\n",
    "plt.show()\n"
   ]
  },
  {
   "cell_type": "code",
   "execution_count": null,
   "metadata": {},
   "outputs": [],
   "source": [
    "cols = ['school', 'sex', 'age', 'famsize', 'studytime',\n",
    "       'failures', 'schoolsup', 'famsup', 'paid', 'activities', 'nursery',\n",
    "       'higher', 'internet', 'romantic', 'famrel', 'freetime', 'goout', 'Dalc',\n",
    "       'Walc', 'health', 'absences', 'G3_group']\n",
    "sns.pairplot(data[cols], kind=\"scatter\", hue=\"G3_group\")"
   ]
  },
  {
   "cell_type": "code",
   "execution_count": 122,
   "metadata": {},
   "outputs": [],
   "source": [
    "from sklearn.preprocessing import OrdinalEncoder, OneHotEncoder\n",
    "def one_hot_encode(data):\n",
    "    \"\"\"Replaces string data with their one-hot encoded versions\"\"\"\n",
    "    # Check if input is a DataFrame or Series\n",
    "    if isinstance(data, pd.Series):\n",
    "        # One-hot encode the Series directly\n",
    "        return pd.get_dummies(data, prefix=data.name, dtype=float)\n",
    "    elif isinstance(data, pd.DataFrame):\n",
    "        # Make a copy of the original dataframe\n",
    "        df_copy = data.copy()\n",
    "        # Loop through each column\n",
    "        for col in df_copy.columns:\n",
    "            # Check if the column is of type object (text)\n",
    "            if df_copy[col].dtype != 'object': continue\n",
    "            unique_vals=df_copy[col].unique()\n",
    "            \n",
    "            if len(unique_vals) == 2:\n",
    "                # Use OrdinalEncoder for binary categorical features\n",
    "                ordinal_encoder = OrdinalEncoder()  # Create a new instance for each column\n",
    "                encoded_col = ordinal_encoder.fit_transform(df_copy[col].values.reshape(-1, 1))\n",
    "                df_copy[col] = encoded_col.flatten()  # Add to encoded data\n",
    "            else:\n",
    "                # Create one-hot encoding for the column\n",
    "                dummies = pd.get_dummies(df_copy[col], prefix=col, dtype=float)\n",
    "                # Insert the dummies columns right after the original column\n",
    "                df_copy = pd.concat([df_copy.iloc[:, :df_copy.columns.get_loc(col) + 1], dummies, df_copy.iloc[:, df_copy.columns.get_loc(col) + 1:]], axis=1)\n",
    "                # Drop the original column\n",
    "                df_copy = df_copy.drop(col, axis=1)\n",
    "        return df_copy\n",
    "    else:\n",
    "        raise ValueError(\"Input must be a pandas DataFrame or Series\")"
   ]
  },
  {
   "cell_type": "code",
   "execution_count": null,
   "metadata": {},
   "outputs": [],
   "source": [
    "from sklearn.preprocessing import OrdinalEncoder, OneHotEncoder\n",
    "import pandas as pd\n",
    "\n",
    "print(\"Заменим нечисловые признаки\")\n",
    "encoded_data = one_hot_encode(data)\n",
    "encoded_data"
   ]
  },
  {
   "cell_type": "code",
   "execution_count": null,
   "metadata": {},
   "outputs": [],
   "source": [
    "sns.heatmap(encoded_data.corr(numeric_only = True))"
   ]
  }
 ],
 "metadata": {
  "kernelspec": {
   "display_name": "venv",
   "language": "python",
   "name": "python3"
  },
  "language_info": {
   "codemirror_mode": {
    "name": "ipython",
    "version": 3
   },
   "file_extension": ".py",
   "mimetype": "text/x-python",
   "name": "python",
   "nbconvert_exporter": "python",
   "pygments_lexer": "ipython3",
   "version": "3.11.6"
  }
 },
 "nbformat": 4,
 "nbformat_minor": 2
}
